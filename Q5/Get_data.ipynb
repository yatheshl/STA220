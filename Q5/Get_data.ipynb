{
 "cells": [
  {
   "cell_type": "code",
   "execution_count": 22,
   "metadata": {},
   "outputs": [],
   "source": [
    "import requests\n",
    "from bs4 import BeautifulSoup"
   ]
  },
  {
   "cell_type": "code",
   "execution_count": 2,
   "metadata": {},
   "outputs": [
    {
     "data": {
      "text/plain": [
       "200"
      ]
     },
     "execution_count": 2,
     "metadata": {},
     "output_type": "execute_result"
    }
   ],
   "source": [
    "response = requests.get(\"https://www.billboard.com/charts/year-end/2022/top-rap-artists/\")\n",
    "response.status_code"
   ]
  },
  {
   "cell_type": "code",
   "execution_count": 13,
   "metadata": {},
   "outputs": [],
   "source": [
    "soup = BeautifulSoup(response.content, \"html.parser\")\n",
    "soup.prettify()\n",
    "\n",
    "artists = []\n",
    "\n",
    "for artist in soup.find_all(\"div\", class_=\"o-chart-results-list-row-container\"):\n",
    "    artist = artist.find(\"h3\", class_=\"c-title\")\n",
    "    artists.append(artist.text.strip())\n"
   ]
  },
  {
   "cell_type": "code",
   "execution_count": 14,
   "metadata": {},
   "outputs": [
    {
     "data": {
      "text/plain": [
       "['Drake',\n",
       " 'Lil Baby',\n",
       " 'Future',\n",
       " 'Kendrick Lamar',\n",
       " 'Juice WRLD',\n",
       " 'Jack Harlow',\n",
       " 'Lil Durk',\n",
       " 'Gunna',\n",
       " 'Kodak Black',\n",
       " 'Rod Wave',\n",
       " 'YoungBoy Never Broke Again',\n",
       " 'Latto',\n",
       " 'Post Malone',\n",
       " 'Kanye West',\n",
       " 'Doja Cat',\n",
       " 'Nardo Wick',\n",
       " 'Polo G',\n",
       " 'Eminem',\n",
       " 'Nicki Minaj',\n",
       " 'Pop Smoke',\n",
       " 'The Kid LAROI',\n",
       " 'Megan Thee Stallion',\n",
       " 'Moneybagg Yo',\n",
       " 'DJ Khaled',\n",
       " 'Lil Nas X']"
      ]
     },
     "execution_count": 14,
     "metadata": {},
     "output_type": "execute_result"
    }
   ],
   "source": [
    "artists"
   ]
  },
  {
   "cell_type": "code",
   "execution_count": 21,
   "metadata": {},
   "outputs": [
    {
     "data": {
      "text/plain": [
       "200"
      ]
     },
     "execution_count": 21,
     "metadata": {},
     "output_type": "execute_result"
    }
   ],
   "source": [
    "\n",
    "headers = {'User-Agent':\n",
    "        'Mozilla/5.0 (Macintosh; Intel Mac OS X 10_10_1) AppleWebKit/537.36 (KHTML, like Gecko) Chrome/39.0.2171.95 Safari/537.36'}\n",
    "response = requests.get(\"https://www.whosampled.com/Drake/samples/\", headers= headers)\n",
    "\n",
    "response.status_code"
   ]
  },
  {
   "cell_type": "code",
   "execution_count": 51,
   "metadata": {},
   "outputs": [
    {
     "name": "stdout",
     "output_type": "stream",
     "text": [
      "['Hotline Bling  (2015)', \"Why Can't We Live Together\", 'by Timmy Thomas (1972)']\n",
      "['Champagne Poetry  (2021)', 'Navajo', 'by Masego (2017)', \"Until I Found the Lord (My Soul Couldn't Rest)\", 'by The Gabriel Hardeman Delegation (1976)']\n",
      "['Pound Cake/Paris Morton Music 2  (2013) by Drake feat. Jay-Z', \"Don't Say a Word\", 'by Ellie Goulding (2012)', 'Jimmy Smith Rap', 'by Jimmy Smith (1982)', 'C.R.E.A.M.', 'by Wu-Tang Clan (1993)', 'see 2 more samples']\n",
      "['Passionfruit  (2017)', 'Live @ Cutloose 2nd Birthday Party', 'by Moodymann (2010)']\n",
      "['Nice for What  (2018)', 'Ex-Factor', 'by Lauryn Hill (1998)', 'Get Your Roll On', 'by Big Tymers (2000)', 'Drag Rap', 'by The Showboys (1986)', 'see 1 more sample']\n",
      "['Rich Flex  (2022) by Drake and 21 Savage', \"24's\", 'by T.I. (2003)', 'Savage', 'by Megan Thee Stallion (2020)', \"Nora's Transformation\", 'from Invasion of the Bee Girls (1973)', 'see 2 more samples']\n",
      "['0 to 100 / the Catch Up  (2014)', 'Vibez', 'by Adam Feeney and Chester Stone Hansen (2014)', 'Over Here', 'by PARTYNEXTDOOR feat. Drake (2013)', 'Run, Forrest, Run!', 'from Forrest Gump (1994)']\n",
      "['Jimmy Cooks  (2022) by Drake feat. 21 Savage', 'Just Awaken Shaken', 'by Playa Fly (1995)', 'You Were Gone', 'by Brook Benton (1976)']\n",
      "['SICKO MODE  (2018) by Travis Scott feat. Drake', 'Gimme the Loot', 'by The Notorious B.I.G. (1994)', 'I Wanna Rock', 'by Luke (1992)', 'Victory Flow', 'by Big Hawk (2005)']\n",
      "['Spin Bout U  (2022) by Drake and 21 Savage', 'Give Me Your Lovin', 'by Oobie (2022)']\n"
     ]
    }
   ],
   "source": [
    "soup = BeautifulSoup(response.content, \"html.parser\")\n",
    "\n",
    "for samples in soup.find_all(\"article\", class_=\"trackItem\"):\n",
    "    x = samples.text.strip()\n",
    "    x= x.split(\"\\n\")\n",
    "    #remove all the null items from the x list\n",
    "    while \"\" in x:\n",
    "        x.remove(\"\")\n",
    "    x.remove(\"sampled\")\n",
    "\n",
    "    print(x)"
   ]
  }
 ],
 "metadata": {
  "kernelspec": {
   "display_name": "Python 3",
   "language": "python",
   "name": "python3"
  },
  "language_info": {
   "codemirror_mode": {
    "name": "ipython",
    "version": 3
   },
   "file_extension": ".py",
   "mimetype": "text/x-python",
   "name": "python",
   "nbconvert_exporter": "python",
   "pygments_lexer": "ipython3",
   "version": "3.10.7"
  },
  "orig_nbformat": 4
 },
 "nbformat": 4,
 "nbformat_minor": 2
}
